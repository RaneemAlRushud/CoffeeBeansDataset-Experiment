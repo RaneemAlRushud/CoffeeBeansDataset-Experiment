{
 "cells": [
  {
   "cell_type": "code",
   "execution_count": 755,
   "id": "f1a27a12",
   "metadata": {},
   "outputs": [],
   "source": [
    "from seaborn import pairplot\n",
    "import matplotlib.pyplot as plt\n",
    "import pandas as pd\n",
    "import numpy\n",
    "from sklearn.svm import SVC\n",
    "from sklearn.model_selection import train_test_split\n",
    "from sklearn.preprocessing import OneHotEncoder\n",
    "from sklearn.compose import make_column_transformer\n",
    "from sklearn.compose import ColumnTransformer\n",
    "from sklearn.preprocessing import StandardScaler\n",
    "from sklearn.metrics import accuracy_score\n",
    "from sklearn import metrics\n",
    "from sklearn.metrics import classification_report\n",
    "from sklearn.metrics import confusion_matrix\n",
    "\n",
    "import plotly\n",
    "import plotly.graph_objs as go"
   ]
  },
  {
   "cell_type": "code",
   "execution_count": 756,
   "id": "044b8320",
   "metadata": {},
   "outputs": [
    {
     "data": {
      "text/plain": [
       "((145, 13), (37, 13))"
      ]
     },
     "execution_count": 756,
     "metadata": {},
     "output_type": "execute_result"
    }
   ],
   "source": [
    "# Load the data and create training and testing data\n",
    "df = pd.read_csv('CoffeeBeansCleaned.csv')\n",
    "df = df.dropna()\n",
    "#pairplot(df, hue='Shape')\n",
    "#plt.show()\n",
    "\n",
    "X = df.drop(columns = ['Shape'])\n",
    "y = df['Shape']\n",
    "\n",
    "X_train, X_test, y_train, y_test = train_test_split(X, y, test_size=0.20, shuffle=True, stratify=y, random_state=42)\n",
    "\n",
    "# check the shape of X_train and X_test\n",
    "X_train.shape, X_test.shape"
   ]
  },
  {
   "cell_type": "code",
   "execution_count": 757,
   "id": "e0fbc73c",
   "metadata": {},
   "outputs": [
    {
     "name": "stdout",
     "output_type": "stream",
     "text": [
      "0.8918918918918919\n",
      "              precision    recall  f1-score   support\n",
      "\n",
      "          FL       0.96      0.96      0.96        23\n",
      "          MI       0.90      0.75      0.82        12\n",
      "          PE       0.50      1.00      0.67         2\n",
      "\n",
      "    accuracy                           0.89        37\n",
      "   macro avg       0.79      0.90      0.81        37\n",
      "weighted avg       0.91      0.89      0.90        37\n",
      "\n"
     ]
    },
    {
     "data": {
      "image/png": "[encoded data removed]",
      "text/plain": [
       "<Figure size 504x432 with 2 Axes>"
      ]
     },
     "metadata": {
      "needs_background": "light"
     },
     "output_type": "display_data"
    }
   ],
   "source": [
    "# Create a transformer object\n",
    "\n",
    "ord_features = [\"Sieve\"]\n",
    "ordinal_transformer = OneHotEncoder(handle_unknown=\"ignore\")\n",
    "\n",
    "cat_features = [\"Variety\"]\n",
    "categorical_transformer = OneHotEncoder(handle_unknown=\"ignore\")\n",
    "\n",
    "ct = ColumnTransformer(transformers=[\n",
    "    (\"ord\", ordinal_transformer, ord_features),\n",
    "    (\"cat\", categorical_transformer, cat_features )],\n",
    "    remainder='passthrough'\n",
    ")\n",
    "\n",
    "# Transform the training features\n",
    "X_train = ct.fit_transform(X_train)\n",
    "X_train = pd.DataFrame(data=X_train, columns=ct.get_feature_names_out())\n",
    "\n",
    "# Building and fit the classifier\n",
    "clf = SVC(kernel='rbf', gamma=0.01, C=1000)\n",
    "clf.fit(X_train, y_train)\n",
    "\n",
    "# Transform the training data\n",
    "X_test = ct.transform(X_test)\n",
    "X_test = pd.DataFrame(data=X_test, columns=ct.get_feature_names_out())\n",
    "\n",
    "# Make predictions and check the accuracy\n",
    "predictions = clf.predict(X_test)\n",
    "print(accuracy_score(y_test, predictions))\n",
    "\n",
    "target_names = ['FL', 'MI', 'PE']\n",
    "print(classification_report(y_test, predictions))\n",
    "\n",
    "cm = confusion_matrix(y_test, predictions)\n",
    "cm_df = pd.DataFrame(cm,\n",
    "                     index = ['FL','MI','PE'], \n",
    "                     columns = ['FL','MI','PE'])\n",
    "plt.figure(figsize=(7,6))\n",
    "sns.heatmap(cm_df, annot=True, cmap='Greens')\n",
    "plt.title('Confusion Matrix')\n",
    "plt.ylabel('Actal Values')\n",
    "plt.xlabel('Predicted Values')\n",
    "plt.show()"
   ]
  },
  {
   "cell_type": "code",
   "execution_count": 758,
   "id": "cbc4cb0f",
   "metadata": {},
   "outputs": [
    {
     "name": "stdout",
     "output_type": "stream",
     "text": [
      "['MI']\n"
     ]
    }
   ],
   "source": [
    "# Testing with an entry\n",
    "CoffeeBean = [{\n",
    "    'Variety': 'OA', \n",
    "    'Sieve': '15', \n",
    "    'Aroma': 6.75, \n",
    "    'Flavor': 6.25, \n",
    "    'Aftertaste': 6.25, \n",
    "    'Acidity': 6.25,\n",
    "    'Body': 6.25,\n",
    "    'Uniformity': 10,\n",
    "    'Balance': 7,\n",
    "    'clean cup': 10,\n",
    "    'Sweetness': 10,\n",
    "    'Taster score': 6,\n",
    "    'Final score': 74.75\n",
    "}]\n",
    "CoffeeBean = pd.DataFrame(CoffeeBean)\n",
    "df_transformed = ct.transform(CoffeeBean)\n",
    "df_transformed = pd.DataFrame(df_transformed, columns=ct.get_feature_names_out())\n",
    "predicted_shape = clf.predict(df_transformed)\n",
    "print(predicted_shape)"
   ]
  },
  {
   "cell_type": "code",
   "execution_count": 759,
   "id": "6e2e2524",
   "metadata": {},
   "outputs": [
    {
     "data": {
      "text/plain": [
       "'4DPlot.html'"
      ]
     },
     "execution_count": 759,
     "metadata": {},
     "output_type": "execute_result"
    }
   ],
   "source": [
    "markercolor = df['Sieve']\n",
    "\n",
    "#Make Plotly figure\n",
    "fig1 = go.Scatter3d(x=df['Variety'],\n",
    "                    y=df['Shape'],\n",
    "                    z=df['Final score'],\n",
    "                    marker=dict(color=markercolor,\n",
    "                                opacity=1,\n",
    "                                reversescale=True,\n",
    "                                colorscale='Greens',\n",
    "                                size=5),\n",
    "                    line=dict (width=0.05),\n",
    "                    mode='markers')\n",
    "\n",
    "#Make Plot.ly Layout\n",
    "mylayout = go.Layout(scene=dict(xaxis=dict( title=\"Variety\"),\n",
    "                                yaxis=dict( title=\"Shape\"),\n",
    "                                zaxis=dict(title=\"Final score\")),)\n",
    "\n",
    "#Plot and save html\n",
    "plotly.offline.plot({\"data\": [fig1],\n",
    "                     \"layout\": mylayout},\n",
    "                     auto_open=True,\n",
    "                     filename=(\"4DPlot.html\"))"
   ]
  },
  {
   "cell_type": "code",
   "execution_count": null,
   "id": "08457685",
   "metadata": {},
   "outputs": [],
   "source": []
  }
 ],
 "metadata": {
  "kernelspec": {
   "display_name": "Python 3 (ipykernel)",
   "language": "python",
   "name": "python3"
  },
  "language_info": {
   "codemirror_mode": {
    "name": "ipython",
    "version": 3
   },
   "file_extension": ".py",
   "mimetype": "text/x-python",
   "name": "python",
   "nbconvert_exporter": "python",
   "pygments_lexer": "ipython3",
   "version": "3.9.7"
  }
 },
 "nbformat": 4,
 "nbformat_minor": 5
}
