{
 "cells": [
  {
   "cell_type": "markdown",
   "id": "64172168",
   "metadata": {},
   "source": [
    "# Libraries For Data Exploration "
   ]
  },
  {
   "cell_type": "code",
   "execution_count": 16,
   "id": "37b67f37",
   "metadata": {},
   "outputs": [],
   "source": [
    "# importing pandas as pd\n",
    "import pandas as pd\n",
    " \n",
    "# importing numpy as np\n",
    "import numpy as np\n",
    "\n",
    "# importing numpy as np\n",
    "import matplotlib.pyplot as plt\n"
   ]
  },
  {
   "cell_type": "markdown",
   "id": "7a5cf291",
   "metadata": {},
   "source": [
    "# Load dataset"
   ]
  },
  {
   "cell_type": "code",
   "execution_count": 144,
   "id": "5c0977d5",
   "metadata": {},
   "outputs": [],
   "source": [
    "# making data frame from csv file\n",
    "# df => data-frame \n",
    "df = pd.read_csv(\"CoffeeBeans.csv\")\n",
    "df_cleaned = pd.read_csv(\"CoffeeBeansCleaned.csv\")"
   ]
  },
  {
   "cell_type": "code",
   "execution_count": 84,
   "id": "c35fa8ac",
   "metadata": {},
   "outputs": [
    {
     "data": {
      "text/plain": [
       "(237, 14)"
      ]
     },
     "execution_count": 84,
     "metadata": {},
     "output_type": "execute_result"
    }
   ],
   "source": [
    "df.shape"
   ]
  },
  {
   "cell_type": "code",
   "execution_count": 116,
   "id": "d34307b9",
   "metadata": {},
   "outputs": [
    {
     "data": {
      "text/plain": [
       "Variety           0\n",
       "Shape             0\n",
       "Sieve             0\n",
       "Aroma             0\n",
       "Flavor            0\n",
       "Aftertaste        0\n",
       "Acidity           0\n",
       "Body              0\n",
       "Uniformity        0\n",
       "Balance           0\n",
       "clean cup         0\n",
       "Sweetness         0\n",
       "Taster´s score    0\n",
       "Final score       0\n",
       "dtype: int64"
      ]
     },
     "execution_count": 116,
     "metadata": {},
     "output_type": "execute_result"
    }
   ],
   "source": [
    "# 1. Iterate on each attribute (Column) and check the null values\n",
    "# 2. Sum all the null/missing values for each attribute \n",
    "# 3. display missing values sumtion in front of each attribute\n",
    "df.isna().sum()"
   ]
  },
  {
   "cell_type": "code",
   "execution_count": 117,
   "id": "77f2a636",
   "metadata": {},
   "outputs": [
    {
     "data": {
      "text/plain": [
       "0"
      ]
     },
     "execution_count": 117,
     "metadata": {},
     "output_type": "execute_result"
    }
   ],
   "source": [
    "#Total number of null/missing values in the whole df \n",
    "df.isna().sum().sum()"
   ]
  },
  {
   "cell_type": "markdown",
   "id": "78130042",
   "metadata": {},
   "source": [
    "# Boxplot and Outliers detection"
   ]
  },
  {
   "cell_type": "code",
   "execution_count": 143,
   "id": "91eb5e13",
   "metadata": {},
   "outputs": [],
   "source": [
    "#define a function called \" plot_boxplot \" to visualize outliers\n",
    "def plot_boxplot ( df , at ):\n",
    "   df.boxplot ( column = [ at ] )\n",
    "   plt.grid ( False )\n",
    "   plt.show ( )"
   ]
  },
  {
   "cell_type": "code",
   "execution_count": 119,
   "id": "f3e546c4",
   "metadata": {},
   "outputs": [
    {
     "data": {
      "image/png": "[encoded data removed]",
      "text/plain": [
       "<Figure size 432x288 with 1 Axes>"
      ]
     },
     "metadata": {
      "needs_background": "light"
     },
     "output_type": "display_data"
    }
   ],
   "source": [
    "plot_boxplot(df, \"Aroma\")"
   ]
  },
  {
   "cell_type": "code",
   "execution_count": 123,
   "id": "438115d6",
   "metadata": {},
   "outputs": [
    {
     "data": {
      "image/png": "[encoded data removed]",
      "text/plain": [
       "<Figure size 432x288 with 1 Axes>"
      ]
     },
     "metadata": {
      "needs_background": "light"
     },
     "output_type": "display_data"
    }
   ],
   "source": [
    "plot_boxplot(df, \"Taster´s score\")"
   ]
  },
  {
   "cell_type": "code",
   "execution_count": 128,
   "id": "d2ebc0bf",
   "metadata": {},
   "outputs": [
    {
     "data": {
      "image/png": "[encoded data removed]",
      "text/plain": [
       "<Figure size 432x288 with 1 Axes>"
      ]
     },
     "metadata": {
      "needs_background": "light"
     },
     "output_type": "display_data"
    }
   ],
   "source": [
    "plot_boxplot(df, \"Final score\")"
   ]
  },
  {
   "cell_type": "code",
   "execution_count": 37,
   "id": "5e569609",
   "metadata": {},
   "outputs": [],
   "source": [
    "#i. Defining a function that access 1 column at a time\n",
    "#ii. Store its values in a list\n",
    "#iii. Sort it as [min,max]; Ascending order\n",
    "#iv. Then, return it\n",
    "def sorted_col(col_name):\n",
    "    col_data = df.loc[:,col_name]\n",
    "    sorted(col_data)\n",
    "    return col_data"
   ]
  },
  {
   "cell_type": "code",
   "execution_count": 38,
   "id": "c784f787",
   "metadata": {},
   "outputs": [],
   "source": [
    "#Defining a function that returns q1, q3\n",
    "def q3_q1(col_data):\n",
    "    #Finding 1st quartile and 3rd quartile\n",
    "    q1, q3 = np.percentile(col_data,[25,75])\n",
    "    #Return q1, q3 values\n",
    "    return q1, q3"
   ]
  },
  {
   "cell_type": "code",
   "execution_count": 39,
   "id": "5197fbb5",
   "metadata": {},
   "outputs": [],
   "source": [
    "#Defining a function that returns the difference between 3rd and 1st quartile\n",
    "def IQR(col_data):\n",
    "    q1, q3 = q3_q1(col_data)\n",
    "    #Finding the IQR which is the difference between 3rd and 1st quartile\n",
    "    IQR = q3 - q1\n",
    "    #Return IQR value\n",
    "    return IQR"
   ]
  },
  {
   "cell_type": "code",
   "execution_count": 47,
   "id": "4d04efdd",
   "metadata": {},
   "outputs": [],
   "source": [
    "#Defining a function that returns the lower and upper bounds\n",
    "def lower_uper(col_data):\n",
    "    q1, q3 = q3_q1(col_data)\n",
    "    IQR_value = IQR(col_data)\n",
    "    #Finding lower and upper bound\n",
    "    lower_bound = q1 -(1.5 * IQR_value) \n",
    "    upper_bound = q3 +(1.5 * IQR_value) \n",
    "    #Print lower_bound, upper_bound value\n",
    "    return lower_bound, upper_bound"
   ]
  },
  {
   "cell_type": "code",
   "execution_count": 48,
   "id": "18266dcf",
   "metadata": {},
   "outputs": [
    {
     "data": {
      "text/plain": [
       "Int64Index([  2,   3,   6,  46,  80,  98, 109, 112, 113, 130, 154, 160, 181,\n",
       "            182, 191, 192, 193, 194, 195, 196, 197, 198, 200, 234, 235],\n",
       "           dtype='int64')"
      ]
     },
     "execution_count": 48,
     "metadata": {},
     "output_type": "execute_result"
    }
   ],
   "source": [
    "#TEST\n",
    "Aroma_data = sorted_col(\"Sweetness\")\n",
    "index = lower_uper(Aroma_data)\n",
    "index"
   ]
  },
  {
   "cell_type": "code",
   "execution_count": 38,
   "id": "06f64145",
   "metadata": {},
   "outputs": [],
   "source": [
    "#Defining a function that returns the min and mix values of a column\n",
    "def min_max_col(col_data):\n",
    "    col_min = min(col_data)\n",
    "    col_max = max(col_data)\n",
    "    return col_min, col_max"
   ]
  },
  {
   "cell_type": "code",
   "execution_count": 60,
   "id": "abf4a5e4",
   "metadata": {},
   "outputs": [
    {
     "name": "stdout",
     "output_type": "stream",
     "text": [
      "[5.125 , 8.125]\n",
      "[6.0 , 7.75]\n"
     ]
    }
   ],
   "source": [
    "#Aroma\n",
    "Aroma_data = sorted_col(\"Aroma\")\n",
    "Aroma_lower, Aroma_upper = lower_uper(Aroma_data)\n",
    "Aroma_min, Aroma_max = min_max_col(Aroma_data)\n",
    "outliers_boundary = ' , '.join([\"[\" + str(Aroma_lower) , str(Aroma_upper) +\"]\"])\n",
    "print (outliers_boundary)\n",
    "#Aroma -> lower_bound is 5.125 and upper bound is 8.125\n",
    "#Thus anything outside [5.125, 8.125] is an outlier\n",
    "Aroma_boundary = ' , '.join([\"[\" + str(Aroma_min) , str(Aroma_max) +\"]\"])\n",
    "print (Aroma_boundary)\n",
    "#Aroma_min -> 6.0, Aroma_max -> 7.75 => [6.0, 7.75]\n",
    "#Thus, no outlier is found in \"Aroma\" Column "
   ]
  },
  {
   "cell_type": "code",
   "execution_count": 79,
   "id": "21a368a1",
   "metadata": {},
   "outputs": [],
   "source": [
    "#Defining a function finds [lower, upper] and [min, max] per column \n",
    "def col_outliers_boundaries(col_name):\n",
    "    col_data = sorted_col(col_name)\n",
    "    col_lower, col_upper = lower_uper(col_data)\n",
    "    col_min, col_max = min_max_col(col_data)\n",
    "    col_outliers = ' , '.join([\"[\" + str(col_lower) , str(col_upper) +\"]\"])\n",
    "    col_boundary = ' , '.join([\"[\" + str(col_min) , str(col_max) +\"]\"])\n",
    "    return col_outliers, col_boundary"
   ]
  },
  {
   "cell_type": "code",
   "execution_count": 94,
   "id": "ed134f41",
   "metadata": {},
   "outputs": [],
   "source": [
    "#Defining a function prints column's Outliers and Boundaries\n",
    "def print_outliers_boundaries(col_outliers, col_boundary):\n",
    "    print (\"Outliers_Boundaries   =>  \" + col_outliers) \n",
    "    print (\"Attribute_Boundaries  =>  \" + col_boundary)"
   ]
  },
  {
   "cell_type": "code",
   "execution_count": 95,
   "id": "e9248d22",
   "metadata": {},
   "outputs": [
    {
     "name": "stdout",
     "output_type": "stream",
     "text": [
      "Outliers    =>  [5.125 , 8.125]\n",
      "Boundaries  =>  [6.0 , 7.75]\n"
     ]
    }
   ],
   "source": [
    "#Aroma   \n",
    "Aroma_outliers, Aroma_boundaries = col_outliers_boundaries(\"Aroma\")\n",
    "print_outliers_boundaries(Aroma_outliers, Aroma_boundaries)\n",
    "#Aroma -> lower_bound is 5.125 and upper bound is 8.125\n",
    "#Thus anything outside [5.125, 8.125] is an outlier\n",
    "#Aroma_min -> 6.0, Aroma_max -> 7.75 => [6.0, 7.75]\n",
    "#Thus, no outlier is found in \"Aroma\" Column"
   ]
  },
  {
   "cell_type": "code",
   "execution_count": 96,
   "id": "44274b28",
   "metadata": {},
   "outputs": [
    {
     "name": "stdout",
     "output_type": "stream",
     "text": [
      "Outliers    =>  [4.875 , 7.875]\n",
      "Boundaries  =>  [6.0 , 7.75]\n"
     ]
    }
   ],
   "source": [
    "#Flavor    \n",
    "Flavor_outliers, Flavor_boundaries = col_outliers_boundaries(\"Flavor\")\n",
    "print_outliers_boundaries(Flavor_outliers, Flavor_boundaries)\n",
    "#Aroma -> lower_bound is 5.125 and upper bound is 8.125\n",
    "#Thus anything outside [5.125, 8.125] is an outlier\n",
    "#Aroma_min -> 6.0, Aroma_max -> 7.75 => [6.0, 7.75]\n",
    "#Thus, no outlier is found in \"Aroma\" Column"
   ]
  },
  {
   "cell_type": "code",
   "execution_count": 97,
   "id": "8b48b078",
   "metadata": {},
   "outputs": [
    {
     "name": "stdout",
     "output_type": "stream",
     "text": [
      "Outliers    =>  [4.875 , 7.875]\n",
      "Boundaries  =>  [6.0 , 7.5]\n"
     ]
    }
   ],
   "source": [
    "#Aftertaste   \n",
    "Aftertaste_outliers, Aftertaste_boundaries = col_outliers_boundaries(\"Aftertaste\")\n",
    "print_outliers_boundaries(Aftertaste_outliers, Aftertaste_boundaries) "
   ]
  },
  {
   "cell_type": "code",
   "execution_count": 98,
   "id": "446280bd",
   "metadata": {},
   "outputs": [
    {
     "name": "stdout",
     "output_type": "stream",
     "text": [
      "Outliers    =>  [4.875 , 7.875]\n",
      "Boundaries  =>  [6.0 , 7.75]\n"
     ]
    }
   ],
   "source": [
    "#Acidity         \n",
    "Aftertaste_outliers, Aftertaste_boundaries = col_outliers_boundaries(\"Acidity\")\n",
    "print_outliers_boundaries(Aftertaste_outliers, Aftertaste_boundaries) "
   ]
  },
  {
   "cell_type": "code",
   "execution_count": 100,
   "id": "df0a1f54",
   "metadata": {},
   "outputs": [
    {
     "name": "stdout",
     "output_type": "stream",
     "text": [
      "Outliers    =>  [5.25 , 7.25]\n",
      "Boundaries  =>  [6.0 , 10.0]\n"
     ]
    }
   ],
   "source": [
    "#Body      \n",
    "Aftertaste_outliers, Aftertaste_boundaries = col_outliers_boundaries(\"Body\")\n",
    "print_outliers_boundaries(Aftertaste_outliers, Aftertaste_boundaries) \n",
    "#Illustrate why we have outliers here\n",
    "#Show a visualization also"
   ]
  },
  {
   "cell_type": "code",
   "execution_count": 102,
   "id": "e691817a",
   "metadata": {},
   "outputs": [
    {
     "name": "stdout",
     "output_type": "stream",
     "text": [
      "Outliers    =>  [10.0 , 10.0]\n",
      "Boundaries  =>  [1.0 , 10.0]\n"
     ]
    }
   ],
   "source": [
    "#Uniformity     \n",
    "Aftertaste_outliers, Aftertaste_boundaries = col_outliers_boundaries(\"Uniformity\")\n",
    "print_outliers_boundaries(Aftertaste_outliers, Aftertaste_boundaries)"
   ]
  },
  {
   "cell_type": "code",
   "execution_count": 103,
   "id": "5f48f1fa",
   "metadata": {},
   "outputs": [
    {
     "name": "stdout",
     "output_type": "stream",
     "text": [
      "Outliers    =>  [5.25 , 7.25]\n",
      "Boundaries  =>  [6.0 , 10.0]\n"
     ]
    }
   ],
   "source": [
    "#Balance   \n",
    "Aftertaste_outliers, Aftertaste_boundaries = col_outliers_boundaries(\"Balance\")\n",
    "print_outliers_boundaries(Aftertaste_outliers, Aftertaste_boundaries)"
   ]
  },
  {
   "cell_type": "code",
   "execution_count": 104,
   "id": "23fabbc6",
   "metadata": {},
   "outputs": [
    {
     "name": "stdout",
     "output_type": "stream",
     "text": [
      "Outliers    =>  [10.0 , 10.0]\n",
      "Boundaries  =>  [4.0 , 10.0]\n"
     ]
    }
   ],
   "source": [
    "#clean cup        \n",
    "Aftertaste_outliers, Aftertaste_boundaries = col_outliers_boundaries(\"clean cup\")\n",
    "print_outliers_boundaries(Aftertaste_outliers, Aftertaste_boundaries)"
   ]
  },
  {
   "cell_type": "code",
   "execution_count": 105,
   "id": "5ae819a5",
   "metadata": {},
   "outputs": [
    {
     "name": "stdout",
     "output_type": "stream",
     "text": [
      "Outliers    =>  [10.0 , 10.0]\n",
      "Boundaries  =>  [6.0 , 10.0]\n"
     ]
    }
   ],
   "source": [
    "#Sweetness        \n",
    "Aftertaste_outliers, Aftertaste_boundaries = col_outliers_boundaries(\"Sweetness\")\n",
    "print_outliers_boundaries(Aftertaste_outliers, Aftertaste_boundaries)"
   ]
  },
  {
   "cell_type": "code",
   "execution_count": 106,
   "id": "9caba937",
   "metadata": {},
   "outputs": [
    {
     "name": "stdout",
     "output_type": "stream",
     "text": [
      "Outliers    =>  [4.875 , 7.875]\n",
      "Boundaries  =>  [6.0 , 8.0]\n"
     ]
    }
   ],
   "source": [
    "#Taster´s score \n",
    "Aftertaste_outliers, Aftertaste_boundaries = col_outliers_boundaries(\"Taster´s score\")\n",
    "print_outliers_boundaries(Aftertaste_outliers, Aftertaste_boundaries)"
   ]
  },
  {
   "cell_type": "code",
   "execution_count": 107,
   "id": "a6bccf65",
   "metadata": {},
   "outputs": [
    {
     "name": "stdout",
     "output_type": "stream",
     "text": [
      "Outliers    =>  [66.5 , 82.5]\n",
      "Boundaries  =>  [60.25 , 82.75]\n"
     ]
    }
   ],
   "source": [
    "#Final score\n",
    "Aftertaste_outliers, Aftertaste_boundaries = col_outliers_boundaries(\"Final score\")\n",
    "print_outliers_boundaries(Aftertaste_outliers, Aftertaste_boundaries)\n",
    "#Final score -> lower_bound is 66.5 and upper bound is 82.5\n",
    "#Thus anything outside  [66.5 , 82.5] is an outlier\n",
    "#FinalScore_min -> 60.25, FinalScore_max -> 82.75 => [60.25 , 82.75]\n",
    "#Thus, there are outliers are found in \"Final score\" Feature"
   ]
  },
  {
   "cell_type": "markdown",
   "id": "cddaa3ad",
   "metadata": {},
   "source": [
    "# Remove Outliers"
   ]
  },
  {
   "cell_type": "code",
   "execution_count": 97,
   "id": "b6c08cd6",
   "metadata": {},
   "outputs": [],
   "source": [
    "index_list = []"
   ]
  },
  {
   "cell_type": "code",
   "execution_count": 96,
   "id": "d57677a6",
   "metadata": {},
   "outputs": [],
   "source": [
    "# define a function called \"outliers\" which returns a List of index of outliers\n",
    "# IQR = Q3-Q1\n",
    "# +/- 1.5*IQR\n",
    "def outliers_Body():\n",
    "    Q1 = df[\"Body\"].quantile(0.25)\n",
    "    Q3 = df[\"Body\"].quantile(0.75)\n",
    "    IQR = Q3 - Q1\n",
    "\n",
    "    lower_bound = Q1 - 1.5 * IQR\n",
    "    upper_bound = Q3 + 1.5 * IQR\n",
    "\n",
    "    ls = df.index[ (df[\"Body\"] < lower_bound) | (df[\"Body\"] > upper_bound) ]\n",
    "\n",
    "    return ls\n"
   ]
  },
  {
   "cell_type": "code",
   "execution_count": 111,
   "id": "55ee4440",
   "metadata": {},
   "outputs": [],
   "source": [
    "def outliers_Uniformity():\n",
    "    Q1 = df[\"Uniformity\"].quantile(0.25)\n",
    "    Q3 = df[\"Uniformity\"].quantile(0.75)\n",
    "    IQR = Q3 - Q1\n",
    "\n",
    "    lower_bound = Q1 - 1.5 * IQR\n",
    "    upper_bound = Q3 + 1.5 * IQR\n",
    "\n",
    "    ls = df.index[ (df[\"Uniformity\"] < lower_bound) | (df[\"Uniformity\"] > upper_bound) ]\n",
    "\n",
    "    return ls"
   ]
  },
  {
   "cell_type": "code",
   "execution_count": 112,
   "id": "dfe81d2d",
   "metadata": {},
   "outputs": [],
   "source": [
    "def outliers_Balance():\n",
    "    Q1 = df[\"Balance\"].quantile(0.25)\n",
    "    Q3 = df[\"Balance\"].quantile(0.75)\n",
    "    IQR = Q3 - Q1\n",
    "\n",
    "    lower_bound = Q1 - 1.5 * IQR\n",
    "    upper_bound = Q3 + 1.5 * IQR\n",
    "\n",
    "    ls = df.index[ (df[\"Balance\"] < lower_bound) | (df[\"Balance\"] > upper_bound) ]\n",
    "\n",
    "    return ls"
   ]
  },
  {
   "cell_type": "code",
   "execution_count": 113,
   "id": "0061d9e8",
   "metadata": {},
   "outputs": [],
   "source": [
    "def outliers_cleanCup():\n",
    "    Q1 = df[\"clean cup\"].quantile(0.25)\n",
    "    Q3 = df[\"clean cup\"].quantile(0.75)\n",
    "    IQR = Q3 - Q1\n",
    "\n",
    "    lower_bound = Q1 - 1.5 * IQR\n",
    "    upper_bound = Q3 + 1.5 * IQR\n",
    "\n",
    "    ls = df.index[ (df[\"clean cup\"] < lower_bound) | (df[\"clean cup\"] > upper_bound) ]\n",
    "\n",
    "    return ls"
   ]
  },
  {
   "cell_type": "code",
   "execution_count": 114,
   "id": "b927cca2",
   "metadata": {},
   "outputs": [],
   "source": [
    "def outliers_Sweetness():\n",
    "    Q1 = df[\"Sweetness\"].quantile(0.25)\n",
    "    Q3 = df[\"Sweetness\"].quantile(0.75)\n",
    "    IQR = Q3 - Q1\n",
    "\n",
    "    lower_bound = Q1 - 1.5 * IQR\n",
    "    upper_bound = Q3 + 1.5 * IQR\n",
    "\n",
    "    ls = df.index[ (df[\"Sweetness\"] < lower_bound) | (df[\"Sweetness\"] > upper_bound) ]\n",
    "\n",
    "    return ls"
   ]
  },
  {
   "cell_type": "code",
   "execution_count": 115,
   "id": "dcce2cb6",
   "metadata": {},
   "outputs": [],
   "source": [
    "def outliers_TasterScore():\n",
    "    Q1 = df[\"Taster´s score\"].quantile(0.25)\n",
    "    Q3 = df[\"Taster´s score\"].quantile(0.75)\n",
    "    IQR = Q3 - Q1\n",
    "\n",
    "    lower_bound = Q1 - 1.5 * IQR\n",
    "    upper_bound = Q3 + 1.5 * IQR\n",
    "\n",
    "    ls = df.index[ (df[\"Taster´s score\"] < lower_bound) | (df[\"Taster´s score\"] > upper_bound) ]\n",
    "\n",
    "    return ls"
   ]
  },
  {
   "cell_type": "code",
   "execution_count": 116,
   "id": "23353204",
   "metadata": {},
   "outputs": [],
   "source": [
    "def outliers_FinalScore():\n",
    "    Q1 = df[\"Final score\"].quantile(0.25)\n",
    "    Q3 = df[\"Final score\"].quantile(0.75)\n",
    "    IQR = Q3 - Q1\n",
    "\n",
    "    lower_bound = Q1 - 1.5 * IQR\n",
    "    upper_bound = Q3 + 1.5 * IQR\n",
    "\n",
    "    ls = df.index[ (df[\"Final score\"] < lower_bound) | (df[\"Final score\"] > upper_bound) ]\n",
    "\n",
    "    return ls"
   ]
  },
  {
   "cell_type": "code",
   "execution_count": 142,
   "id": "7b45a8f1",
   "metadata": {},
   "outputs": [
    {
     "data": {
      "text/plain": [
       "55"
      ]
     },
     "execution_count": 142,
     "metadata": {},
     "output_type": "execute_result"
    }
   ],
   "source": [
    "\n",
    "#index_list.extend(outliers_FinalScore())\n",
    "#Remove duplicates first\n",
    "index_list = [*set(index_list)]\n",
    "len(index_list)\n",
    "#88,105,117?,149,151,155"
   ]
  },
  {
   "cell_type": "code",
   "execution_count": 140,
   "id": "dd845383",
   "metadata": {},
   "outputs": [],
   "source": [
    "# define a function called \"remove\" \n",
    "# which returns a cleaned dataframe without outliers\n",
    "# df => dataframe\n",
    "# ls => output of indices from multiple columns\n",
    "def remove (df, ls):\n",
    "    ls = sorted(set (ls))\n",
    "    df = df.drop(ls)\n",
    "    return df"
   ]
  },
  {
   "cell_type": "code",
   "execution_count": 127,
   "id": "333156ff",
   "metadata": {},
   "outputs": [],
   "source": [
    "df_cleaned = remove(df, index_list)"
   ]
  },
  {
   "cell_type": "code",
   "execution_count": 130,
   "id": "6ea96352",
   "metadata": {},
   "outputs": [
    {
     "data": {
      "text/plain": [
       "(182, 14)"
      ]
     },
     "execution_count": 130,
     "metadata": {},
     "output_type": "execute_result"
    }
   ],
   "source": [
    "#After removing the outliers\n",
    "df_cleaned.shape"
   ]
  },
  {
   "cell_type": "code",
   "execution_count": 134,
   "id": "d13b1c37",
   "metadata": {},
   "outputs": [
    {
     "data": {
      "text/plain": [
       "(237, 14)"
      ]
     },
     "execution_count": 134,
     "metadata": {},
     "output_type": "execute_result"
    }
   ],
   "source": [
    "df.shape"
   ]
  },
  {
   "cell_type": "code",
   "execution_count": null,
   "id": "bce649ea",
   "metadata": {},
   "outputs": [],
   "source": [
    "#check for outliers for each feature that has outlier(s)\n",
    "plot_boxplot(df_cleaned,'')"
   ]
  },
  {
   "cell_type": "code",
   "execution_count": 133,
   "id": "ce6a4d93",
   "metadata": {},
   "outputs": [],
   "source": [
    "#create new cleaned dataset\n",
    "df_cleaned.to_csv('CoffeeBeansCleaned.csv', index = False)"
   ]
  },
  {
   "cell_type": "markdown",
   "id": "8e1e7c44",
   "metadata": {},
   "source": [
    "# Ckeck for outliers after removing them"
   ]
  },
  {
   "cell_type": "markdown",
   "id": "350e2e1c",
   "metadata": {},
   "source": [
    "## 🌟 Body : Feature"
   ]
  },
  {
   "cell_type": "code",
   "execution_count": 146,
   "id": "46a74f71",
   "metadata": {},
   "outputs": [
    {
     "data": {
      "image/png": "[encoded data removed]",
      "text/plain": [
       "<Figure size 432x288 with 1 Axes>"
      ]
     },
     "metadata": {
      "needs_background": "light"
     },
     "output_type": "display_data"
    }
   ],
   "source": [
    "plot_boxplot(df,'Body')"
   ]
  },
  {
   "cell_type": "code",
   "execution_count": 147,
   "id": "c3d90da7",
   "metadata": {},
   "outputs": [
    {
     "data": {
      "image/png": "[encoded data removed]",
      "text/plain": [
       "<Figure size 432x288 with 1 Axes>"
      ]
     },
     "metadata": {
      "needs_background": "light"
     },
     "output_type": "display_data"
    }
   ],
   "source": [
    "plot_boxplot(df_cleaned,'Body')"
   ]
  },
  {
   "cell_type": "markdown",
   "id": "11a695d0",
   "metadata": {},
   "source": [
    "## 🌟 Uniformity : Feature"
   ]
  },
  {
   "cell_type": "code",
   "execution_count": 148,
   "id": "3c9f9ad9",
   "metadata": {},
   "outputs": [
    {
     "data": {
      "image/png": "[encoded data removed]",
      "text/plain": [
       "<Figure size 432x288 with 1 Axes>"
      ]
     },
     "metadata": {
      "needs_background": "light"
     },
     "output_type": "display_data"
    }
   ],
   "source": [
    "plot_boxplot(df,'Uniformity')"
   ]
  },
  {
   "cell_type": "code",
   "execution_count": 149,
   "id": "7f67e99e",
   "metadata": {},
   "outputs": [
    {
     "data": {
      "image/png": "[encoded data removed]",
      "text/plain": [
       "<Figure size 432x288 with 1 Axes>"
      ]
     },
     "metadata": {
      "needs_background": "light"
     },
     "output_type": "display_data"
    }
   ],
   "source": [
    "plot_boxplot(df_cleaned,'Uniformity')"
   ]
  },
  {
   "cell_type": "markdown",
   "id": "f0076c68",
   "metadata": {},
   "source": [
    "## 🌟 Balance : Feature"
   ]
  },
  {
   "cell_type": "code",
   "execution_count": 150,
   "id": "887369c6",
   "metadata": {},
   "outputs": [
    {
     "data": {
      "image/png": "[encoded data removed]",
      "text/plain": [
       "<Figure size 432x288 with 1 Axes>"
      ]
     },
     "metadata": {
      "needs_background": "light"
     },
     "output_type": "display_data"
    }
   ],
   "source": [
    "plot_boxplot(df,'Balance')"
   ]
  },
  {
   "cell_type": "code",
   "execution_count": 151,
   "id": "ad33e29f",
   "metadata": {},
   "outputs": [
    {
     "data": {
      "image/png": "[encoded data removed]",
      "text/plain": [
       "<Figure size 432x288 with 1 Axes>"
      ]
     },
     "metadata": {
      "needs_background": "light"
     },
     "output_type": "display_data"
    }
   ],
   "source": [
    "plot_boxplot(df_cleaned,'Balance')"
   ]
  },
  {
   "cell_type": "markdown",
   "id": "11eb35e0",
   "metadata": {},
   "source": [
    "## 🌟 clean cup : Feature"
   ]
  },
  {
   "cell_type": "code",
   "execution_count": 152,
   "id": "22824928",
   "metadata": {},
   "outputs": [
    {
     "data": {
      "image/png": "[encoded data removed]",
      "text/plain": [
       "<Figure size 432x288 with 1 Axes>"
      ]
     },
     "metadata": {
      "needs_background": "light"
     },
     "output_type": "display_data"
    }
   ],
   "source": [
    "plot_boxplot(df,'clean cup')"
   ]
  },
  {
   "cell_type": "code",
   "execution_count": 153,
   "id": "7e5880ef",
   "metadata": {},
   "outputs": [
    {
     "data": {
      "image/png": "[encoded data removed]",
      "text/plain": [
       "<Figure size 432x288 with 1 Axes>"
      ]
     },
     "metadata": {
      "needs_background": "light"
     },
     "output_type": "display_data"
    }
   ],
   "source": [
    "plot_boxplot(df_cleaned,'clean cup')"
   ]
  },
  {
   "cell_type": "markdown",
   "id": "f106641c",
   "metadata": {},
   "source": [
    "## 🌟 Sweetness : Feature"
   ]
  },
  {
   "cell_type": "code",
   "execution_count": 154,
   "id": "59c5c3a6",
   "metadata": {},
   "outputs": [
    {
     "data": {
      "image/png": "[encoded data removed]",
      "text/plain": [
       "<Figure size 432x288 with 1 Axes>"
      ]
     },
     "metadata": {
      "needs_background": "light"
     },
     "output_type": "display_data"
    }
   ],
   "source": [
    "plot_boxplot(df,'Sweetness')"
   ]
  },
  {
   "cell_type": "code",
   "execution_count": 155,
   "id": "1b9b31b6",
   "metadata": {},
   "outputs": [
    {
     "data": {
      "image/png": "[encoded data removed]",
      "text/plain": [
       "<Figure size 432x288 with 1 Axes>"
      ]
     },
     "metadata": {
      "needs_background": "light"
     },
     "output_type": "display_data"
    }
   ],
   "source": [
    "plot_boxplot(df_cleaned,'Sweetness')"
   ]
  },
  {
   "cell_type": "markdown",
   "id": "2c881c7f",
   "metadata": {},
   "source": [
    "## 🌟 Taster´s score : Feature"
   ]
  },
  {
   "cell_type": "code",
   "execution_count": 156,
   "id": "8647084a",
   "metadata": {},
   "outputs": [
    {
     "data": {
      "image/png": "[encoded data removed]",
      "text/plain": [
       "<Figure size 432x288 with 1 Axes>"
      ]
     },
     "metadata": {
      "needs_background": "light"
     },
     "output_type": "display_data"
    }
   ],
   "source": [
    "plot_boxplot(df,'Taster´s score')"
   ]
  },
  {
   "cell_type": "code",
   "execution_count": 157,
   "id": "60d71abe",
   "metadata": {},
   "outputs": [
    {
     "data": {
      "image/png": "[encoded data removed]",
      "text/plain": [
       "<Figure size 432x288 with 1 Axes>"
      ]
     },
     "metadata": {
      "needs_background": "light"
     },
     "output_type": "display_data"
    }
   ],
   "source": [
    "plot_boxplot(df_cleaned,'Taster´s score')"
   ]
  },
  {
   "cell_type": "markdown",
   "id": "bbf97e13",
   "metadata": {},
   "source": [
    "## 🌟 Final score  : Feature"
   ]
  },
  {
   "cell_type": "code",
   "execution_count": 158,
   "id": "a79e1ea6",
   "metadata": {},
   "outputs": [
    {
     "data": {
      "image/png": "[encoded data removed]",
      "text/plain": [
       "<Figure size 432x288 with 1 Axes>"
      ]
     },
     "metadata": {
      "needs_background": "light"
     },
     "output_type": "display_data"
    }
   ],
   "source": [
    "plot_boxplot(df,'Final score')"
   ]
  },
  {
   "cell_type": "code",
   "execution_count": 159,
   "id": "a89121de",
   "metadata": {},
   "outputs": [
    {
     "data": {
      "image/png": "[encoded data removed]",
      "text/plain": [
       "<Figure size 432x288 with 1 Axes>"
      ]
     },
     "metadata": {
      "needs_background": "light"
     },
     "output_type": "display_data"
    }
   ],
   "source": [
    "plot_boxplot(df_cleaned,'Final score')"
   ]
  },
  {
   "cell_type": "markdown",
   "id": "a987f07d",
   "metadata": {},
   "source": [
    "# 1st algorithm : SVM"
   ]
  },
  {
   "cell_type": "code",
   "execution_count": null,
   "id": "0a10b163",
   "metadata": {},
   "outputs": [],
   "source": []
  },
  {
   "cell_type": "markdown",
   "id": "68af3837",
   "metadata": {},
   "source": [
    "# 2ed Algorithm : "
   ]
  },
  {
   "cell_type": "code",
   "execution_count": null,
   "id": "17967eee",
   "metadata": {},
   "outputs": [],
   "source": []
  }
 ],
 "metadata": {
  "kernelspec": {
   "display_name": "Python 3 (ipykernel)",
   "language": "python",
   "name": "python3"
  },
  "language_info": {
   "codemirror_mode": {
    "name": "ipython",
    "version": 3
   },
   "file_extension": ".py",
   "mimetype": "text/x-python",
   "name": "python",
   "nbconvert_exporter": "python",
   "pygments_lexer": "ipython3",
   "version": "3.9.7"
  }
 },
 "nbformat": 4,
 "nbformat_minor": 5
}
